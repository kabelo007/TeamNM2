{
 "cells": [
  {
   "cell_type": "markdown",
   "id": "67cfee4f",
   "metadata": {},
   "source": [
    "# Advancd Classification Predict Student Solution\n",
    "\n",
    "© Explore Data Science Academy\n",
    "\n",
    "---\n",
    "### Honour Code\n",
    "\n",
    "I {**TEAM NM2**}, confirm - by submitting this document - that the solutions in this notebook are a result of my own work and that I abide by the [EDSA honour code](https://drive.google.com/file/d/1QDCjGZJ8-FmJE3bZdIQNwnJyQKPhHZBn/view?usp=sharing).\n",
    "\n",
    "Non-compliance with the honour code constitutes a material breach of contract.\n",
    "\n",
    "### Predict Overview: EDSA - Twitter Sentiment Classification\n",
    "Predict an individual’s belief in climate change based on their tweets!\n",
    "\n",
    "Many companies are built around lessening one’s environmental impact or carbon footprint. They offer products and services that are environmentally friendly and sustainable, in line with their values and ideals. They would like to determine how people perceive climate change and whether or not they believe it is a real threat. This would add to their market research efforts in gauging how their product/service may be received.\n",
    "\n",
    "With this context, EDSA is challenging you during the Classification Sprint with the task of creating a Machine Learning model that is able to classify whether or not a person believes in climate change, based on their novel tweet data.\n",
    "\n",
    "Providing an accurate and robust solution to this task gives companies access to a broad base of consumer sentiment, spanning multiple demographic and geographic categories - thus increasing their insights and informing future marketing strategies."
   ]
  },
  {
   "cell_type": "markdown",
   "id": "967c5e84",
   "metadata": {},
   "source": [
    "Table of Contents\n",
    "\n",
    "1. Importing Packages\n",
    "\n",
    "2. Loading Data\n",
    "\n",
    "3. Exploratory Data Analysis (EDA)\n",
    "\n",
    "4. Data Engineering\n",
    "\n",
    "5. Modeling\n",
    "\n",
    "6. Model Performance\n",
    "\n",
    "7. Model Explanations"
   ]
  },
  {
   "cell_type": "markdown",
   "id": "b0b797a7",
   "metadata": {},
   "source": [
    "### 1. IMPORTING PACKAGES\n",
    "\n",
    "* Packages to be imported for our Predict"
   ]
  },
  {
   "cell_type": "code",
   "execution_count": 6,
   "id": "16d7d16b",
   "metadata": {},
   "outputs": [],
   "source": [
    "# Libraries for data loading and data visulisation\n",
    "import numpy as np\n",
    "import numpy as np\n",
    "import pandas as pd\n",
    "import matplotlib.pyplot as plt\n",
    "import seaborn as sns\n",
    "%matplotlib inline\n",
    "\n",
    "import warnings\n",
    "warnings.filterwarnings(\"ignore\")\n",
    "\n",
    "# Libraries for modelling\n"
   ]
  },
  {
   "cell_type": "code",
   "execution_count": 14,
   "id": "98e08080",
   "metadata": {},
   "outputs": [
    {
     "name": "stdout",
     "output_type": "stream",
     "text": [
      "showing info https://raw.githubusercontent.com/nltk/nltk_data/gh-pages/index.xml\n"
     ]
    }
   ],
   "source": [
    "#  Discuss the libraries that will be used throughout your analysis and modelling.\n",
    "import nltk\n",
    "import re\n",
    "sns.set()\n",
    "nltk.download()\n",
    "from nltk.corpus import stopwords\n",
    "import string\n",
    "from nltk.tokenize import word_tokenize, TreebankWordTokenizer\n",
    "from nltk.corpus import stopwords\n",
    "from nltk import SnowballStemmer, PorterStemmer, LancasterStemmer\n"
   ]
  },
  {
   "cell_type": "markdown",
   "id": "75ca53bc",
   "metadata": {},
   "source": [
    "### 2.LOADING OF THE DATA"
   ]
  },
  {
   "cell_type": "code",
   "execution_count": 8,
   "id": "92453a8f",
   "metadata": {},
   "outputs": [
    {
     "data": {
      "text/html": [
       "<div>\n",
       "<style scoped>\n",
       "    .dataframe tbody tr th:only-of-type {\n",
       "        vertical-align: middle;\n",
       "    }\n",
       "\n",
       "    .dataframe tbody tr th {\n",
       "        vertical-align: top;\n",
       "    }\n",
       "\n",
       "    .dataframe thead th {\n",
       "        text-align: right;\n",
       "    }\n",
       "</style>\n",
       "<table border=\"1\" class=\"dataframe\">\n",
       "  <thead>\n",
       "    <tr style=\"text-align: right;\">\n",
       "      <th></th>\n",
       "      <th>sentiment</th>\n",
       "      <th>message</th>\n",
       "      <th>tweetid</th>\n",
       "    </tr>\n",
       "  </thead>\n",
       "  <tbody>\n",
       "    <tr>\n",
       "      <th>0</th>\n",
       "      <td>1</td>\n",
       "      <td>PolySciMajor EPA chief doesn't think carbon di...</td>\n",
       "      <td>625221</td>\n",
       "    </tr>\n",
       "    <tr>\n",
       "      <th>1</th>\n",
       "      <td>1</td>\n",
       "      <td>It's not like we lack evidence of anthropogeni...</td>\n",
       "      <td>126103</td>\n",
       "    </tr>\n",
       "    <tr>\n",
       "      <th>2</th>\n",
       "      <td>2</td>\n",
       "      <td>RT @RawStory: Researchers say we have three ye...</td>\n",
       "      <td>698562</td>\n",
       "    </tr>\n",
       "    <tr>\n",
       "      <th>3</th>\n",
       "      <td>1</td>\n",
       "      <td>#TodayinMaker# WIRED : 2016 was a pivotal year...</td>\n",
       "      <td>573736</td>\n",
       "    </tr>\n",
       "    <tr>\n",
       "      <th>4</th>\n",
       "      <td>1</td>\n",
       "      <td>RT @SoyNovioDeTodas: It's 2016, and a racist, ...</td>\n",
       "      <td>466954</td>\n",
       "    </tr>\n",
       "  </tbody>\n",
       "</table>\n",
       "</div>"
      ],
      "text/plain": [
       "   sentiment                                            message  tweetid\n",
       "0          1  PolySciMajor EPA chief doesn't think carbon di...   625221\n",
       "1          1  It's not like we lack evidence of anthropogeni...   126103\n",
       "2          2  RT @RawStory: Researchers say we have three ye...   698562\n",
       "3          1  #TodayinMaker# WIRED : 2016 was a pivotal year...   573736\n",
       "4          1  RT @SoyNovioDeTodas: It's 2016, and a racist, ...   466954"
      ]
     },
     "execution_count": 8,
     "metadata": {},
     "output_type": "execute_result"
    }
   ],
   "source": [
    "df = pd.read_csv(\"train.csv\")\n",
    "df.head()"
   ]
  },
  {
   "cell_type": "code",
   "execution_count": null,
   "id": "e8dff132",
   "metadata": {},
   "outputs": [],
   "source": [
    "# View data"
   ]
  },
  {
   "cell_type": "markdown",
   "id": "4c8e3fd2",
   "metadata": {},
   "source": [
    "### 3. EXPLORATORY DATA ANALYSIS (EDA)"
   ]
  },
  {
   "cell_type": "code",
   "execution_count": null,
   "id": "1730ebc6",
   "metadata": {},
   "outputs": [],
   "source": [
    "# Look at stats\n",
    "# df.info, df.describe, df.isnull, etc\n",
    "\n"
   ]
  },
  {
   "cell_type": "code",
   "execution_count": null,
   "id": "eaac79ac",
   "metadata": {},
   "outputs": [],
   "source": []
  },
  {
   "cell_type": "code",
   "execution_count": null,
   "id": "9b577f6d",
   "metadata": {},
   "outputs": [],
   "source": []
  },
  {
   "cell_type": "code",
   "execution_count": null,
   "id": "ea12d4cc",
   "metadata": {},
   "outputs": [],
   "source": []
  },
  {
   "cell_type": "code",
   "execution_count": null,
   "id": "fd5051ef",
   "metadata": {},
   "outputs": [],
   "source": []
  },
  {
   "cell_type": "code",
   "execution_count": null,
   "id": "8f4f3bee",
   "metadata": {},
   "outputs": [],
   "source": [
    "# Explain What we observed from stats"
   ]
  },
  {
   "cell_type": "markdown",
   "id": "2be3568b",
   "metadata": {},
   "source": [
    "### 4. DATA / FEATURE ENGINEERING"
   ]
  },
  {
   "cell_type": "code",
   "execution_count": null,
   "id": "c87fed84",
   "metadata": {},
   "outputs": [],
   "source": [
    "# Engineer our features\n",
    "#Remove stop words, lemmatisation, Feature Extraction etc"
   ]
  },
  {
   "cell_type": "code",
   "execution_count": 9,
   "id": "c7f3d46e",
   "metadata": {},
   "outputs": [
    {
     "data": {
      "image/png": "[encoded data removed]",
      "text/plain": [
       "<Figure size 432x288 with 1 Axes>"
      ]
     },
     "metadata": {},
     "output_type": "display_data"
    }
   ],
   "source": [
    "\n",
    "pattern_url = r'http[s]?://(?:[A-Za-z]|[0-9]|[$-_@.&+]|[!*\\(\\),]|(?:%[0-9A-Fa-f][0-9A-Fa-f]))+'\n",
    "subs_url = r'url-web'\n",
    "df['message'] = df['message'].replace(to_replace = pattern_url, value = subs_url, regex = True)\n",
    "\n",
    "stopwords_list = stopwords.words('english')\n",
    "\n",
    "df['sentiment'].value_counts().plot(kind = 'bar')\n",
    "plt.show()\n",
    "df['message'] = df['message'].str.lower()\n"
   ]
  },
  {
   "cell_type": "code",
   "execution_count": 10,
   "id": "2619588a",
   "metadata": {},
   "outputs": [],
   "source": [
    "def remove_punctuation(post):\n",
    "    return ''.join([l for l in post if l not in string.punctuation])"
   ]
  },
  {
   "cell_type": "code",
   "execution_count": 12,
   "id": "2e147e40",
   "metadata": {},
   "outputs": [
    {
     "data": {
      "text/plain": [
       "'rt thetorontosun from sunlorrie indian environmentalist calls out dicaprio in his own documentary on climate changeã¢â‚¬â¦'"
      ]
     },
     "execution_count": 12,
     "metadata": {},
     "output_type": "execute_result"
    }
   ],
   "source": [
    "df['message'] = df['message'].apply(remove_punctuation)\n",
    "df['message'].iloc[45]"
   ]
  },
  {
   "cell_type": "code",
   "execution_count": 15,
   "id": "14d3cfe5",
   "metadata": {},
   "outputs": [],
   "source": [
    "tokeniser = TreebankWordTokenizer()\n",
    "df['tokens'] = df['message'].apply(tokeniser.tokenize)\n",
    "stemmer = SnowballStemmer('english')\n",
    "stemmers = PorterStemmer()"
   ]
  },
  {
   "cell_type": "code",
   "execution_count": 16,
   "id": "0fec55f3",
   "metadata": {},
   "outputs": [],
   "source": [
    "def tweet_stemmer(words, stemmer):\n",
    "    return [stemmer.stem(word) for word in words]"
   ]
  },
  {
   "cell_type": "code",
   "execution_count": 17,
   "id": "76208d21",
   "metadata": {},
   "outputs": [],
   "source": [
    "df['stem'] = df['tokens'].apply(tweet_stemmer, args=(stemmer, ))\n"
   ]
  },
  {
   "cell_type": "code",
   "execution_count": 18,
   "id": "f58ede8b",
   "metadata": {},
   "outputs": [
    {
     "name": "stderr",
     "output_type": "stream",
     "text": [
      "[nltk_data] Downloading package wordnet to\n",
      "[nltk_data]     C:\\Users\\kabel\\AppData\\Roaming\\nltk_data...\n",
      "[nltk_data]   Package wordnet is already up-to-date!\n"
     ]
    }
   ],
   "source": [
    "from nltk.stem import WordNetLemmatizer\n",
    "nltk.download('wordnet')\n",
    "\n",
    "lemmatizer = WordNetLemmatizer()"
   ]
  },
  {
   "cell_type": "code",
   "execution_count": 19,
   "id": "6b0f4a90",
   "metadata": {},
   "outputs": [],
   "source": [
    "def tweet_lemma(words, lemmatizer):\n",
    "    return [lemmatizer.lemmatize(word) for word in words] "
   ]
  },
  {
   "cell_type": "code",
   "execution_count": 20,
   "id": "18f14497",
   "metadata": {},
   "outputs": [
    {
     "name": "stderr",
     "output_type": "stream",
     "text": [
      "[nltk_data] Downloading package omw-1.4 to\n",
      "[nltk_data]     C:\\Users\\kabel\\AppData\\Roaming\\nltk_data...\n",
      "[nltk_data]   Package omw-1.4 is already up-to-date!\n"
     ]
    }
   ],
   "source": [
    "nltk.download('omw-1.4')\n",
    "df['lemma'] = df['tokens'].apply(tweet_lemma, args=(lemmatizer, ))"
   ]
  },
  {
   "cell_type": "code",
   "execution_count": 21,
   "id": "4ddc77eb",
   "metadata": {},
   "outputs": [],
   "source": [
    "def remove_stop_words(tokens):    \n",
    "    return [t for t in tokens if t not in stopwords.words('english')]"
   ]
  },
  {
   "cell_type": "code",
   "execution_count": 22,
   "id": "6b9f619b",
   "metadata": {},
   "outputs": [],
   "source": [
    "df['stem'] = df['stem'].apply(remove_stop_words)\n",
    "df['lemma'] = df['lemma'].apply(remove_stop_words)\n"
   ]
  },
  {
   "cell_type": "code",
   "execution_count": 23,
   "id": "ef62e3ef",
   "metadata": {},
   "outputs": [
    {
     "data": {
      "text/plain": [
       "0        [polyscimajor, epa, chief, doesnt, think, carb...\n",
       "1        [like, lack, evidence, anthropogenic, global, ...\n",
       "2        [rt, rawstory, researcher, say, three, year, a...\n",
       "3        [todayinmaker, wired, 2016, wa, pivotal, year,...\n",
       "4        [rt, soynoviodetodas, 2016, racist, sexist, cl...\n",
       "                               ...                        \n",
       "15814    [rt, ezlusztig, took, material, global, warmin...\n",
       "15815    [rt, washingtonpost, climate, change, could, b...\n",
       "15816    [notiven, rt, nytimesworld, doe, trump, actual...\n",
       "15817    [rt, sara8smiles, hey, liberal, climate, chang...\n",
       "15818    [rt, chetcannon, kurteichenwalds, climate, cha...\n",
       "Name: lemma, Length: 15819, dtype: object"
      ]
     },
     "execution_count": 23,
     "metadata": {},
     "output_type": "execute_result"
    }
   ],
   "source": [
    "df['lemma']"
   ]
  },
  {
   "cell_type": "code",
   "execution_count": 4,
   "id": "3abb9fbb",
   "metadata": {},
   "outputs": [],
   "source": [
    "# Explain what features were engineered and reasons"
   ]
  },
  {
   "cell_type": "markdown",
   "id": "cd629e76",
   "metadata": {},
   "source": [
    "### 5. MODELLING"
   ]
  },
  {
   "cell_type": "code",
   "execution_count": null,
   "id": "c38324b9",
   "metadata": {},
   "outputs": [],
   "source": [
    "# Create some Classification models to Predict an individual’s belief in climate change based on their tweets!"
   ]
  },
  {
   "cell_type": "code",
   "execution_count": null,
   "id": "bf1bdc6f",
   "metadata": {},
   "outputs": [],
   "source": []
  },
  {
   "cell_type": "markdown",
   "id": "5cc69fe8",
   "metadata": {},
   "source": [
    "### 6. MODEL PERFORMANCE"
   ]
  },
  {
   "cell_type": "code",
   "execution_count": null,
   "id": "868de69d",
   "metadata": {},
   "outputs": [],
   "source": [
    "# Compare Model performance and comment on what the best model is and why"
   ]
  }
 ],
 "metadata": {
  "kernelspec": {
   "display_name": "Python 3 (ipykernel)",
   "language": "python",
   "name": "python3"
  },
  "language_info": {
   "codemirror_mode": {
    "name": "ipython",
    "version": 3
   },
   "file_extension": ".py",
   "mimetype": "text/x-python",
   "name": "python",
   "nbconvert_exporter": "python",
   "pygments_lexer": "ipython3",
   "version": "3.9.12"
  }
 },
 "nbformat": 4,
 "nbformat_minor": 5
}
